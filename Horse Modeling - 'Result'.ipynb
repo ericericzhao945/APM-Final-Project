{
 "cells": [
  {
   "cell_type": "markdown",
   "metadata": {},
   "source": [
    "# '1997-2005' Model"
   ]
  },
  {
   "cell_type": "code",
   "execution_count": 1,
   "metadata": {},
   "outputs": [],
   "source": [
    "# import libraries\n",
    "import pandas as pd\n",
    "import numpy as np\n",
    "import matplotlib.pyplot as plt\n",
    "\n",
    "# import data\n",
    "df = pd.read_csv('extracted_big.csv')"
   ]
  },
  {
   "cell_type": "markdown",
   "metadata": {},
   "source": [
    "## Final Data Prep\n",
    "\n",
    "### Split and Scale"
   ]
  },
  {
   "cell_type": "code",
   "execution_count": 2,
   "metadata": {},
   "outputs": [
    {
     "data": {
      "text/html": [
       "<div>\n",
       "<style scoped>\n",
       "    .dataframe tbody tr th:only-of-type {\n",
       "        vertical-align: middle;\n",
       "    }\n",
       "\n",
       "    .dataframe tbody tr th {\n",
       "        vertical-align: top;\n",
       "    }\n",
       "\n",
       "    .dataframe thead th {\n",
       "        text-align: right;\n",
       "    }\n",
       "</style>\n",
       "<table border=\"1\" class=\"dataframe\">\n",
       "  <thead>\n",
       "    <tr style=\"text-align: right;\">\n",
       "      <th></th>\n",
       "      <th>n</th>\n",
       "      <th>%</th>\n",
       "    </tr>\n",
       "  </thead>\n",
       "  <tbody>\n",
       "    <tr>\n",
       "      <th>Train</th>\n",
       "      <td>68021</td>\n",
       "      <td>0.898441</td>\n",
       "    </tr>\n",
       "    <tr>\n",
       "      <th>Test</th>\n",
       "      <td>7689</td>\n",
       "      <td>0.101559</td>\n",
       "    </tr>\n",
       "  </tbody>\n",
       "</table>\n",
       "</div>"
      ],
      "text/plain": [
       "           n         %\n",
       "Train  68021  0.898441\n",
       "Test    7689  0.101559"
      ]
     },
     "execution_count": 2,
     "metadata": {},
     "output_type": "execute_result"
    }
   ],
   "source": [
    "# set X test and train\n",
    "mask = df['race_id']<5500\n",
    "X_train = df[mask].drop(['result','won'],axis=1)\n",
    "X_test = df[~mask].drop(['result','won'],axis=1).reset_index(drop=True)\n",
    "\n",
    "# set y test and train\n",
    "y = 'result' # or 'won'\n",
    "y_train = df.loc[mask,y]\n",
    "y_test = df.loc[~mask,y].reset_index(drop=True)\n",
    "\n",
    "# display split\n",
    "split = pd.DataFrame()\n",
    "split['n'] = [X_train.shape[0],X_test.shape[0]]\n",
    "split['%'] = [X_train.shape[0]/df.shape[0],X_test.shape[0]/df.shape[0]]\n",
    "split.rename(index={0:'Train',1:'Test'})"
   ]
  },
  {
   "cell_type": "code",
   "execution_count": 3,
   "metadata": {
    "scrolled": false
   },
   "outputs": [
    {
     "data": {
      "text/html": [
       "<div>\n",
       "<style scoped>\n",
       "    .dataframe tbody tr th:only-of-type {\n",
       "        vertical-align: middle;\n",
       "    }\n",
       "\n",
       "    .dataframe tbody tr th {\n",
       "        vertical-align: top;\n",
       "    }\n",
       "\n",
       "    .dataframe thead th {\n",
       "        text-align: right;\n",
       "    }\n",
       "</style>\n",
       "<table border=\"1\" class=\"dataframe\">\n",
       "  <thead>\n",
       "    <tr style=\"text-align: right;\">\n",
       "      <th></th>\n",
       "      <th>horse_age</th>\n",
       "      <th>horse_rating</th>\n",
       "      <th>declared_weight</th>\n",
       "      <th>actual_weight</th>\n",
       "      <th>draw</th>\n",
       "      <th>win_odds</th>\n",
       "      <th>place_odds</th>\n",
       "      <th>surface</th>\n",
       "      <th>distance</th>\n",
       "      <th>race_class</th>\n",
       "      <th>...</th>\n",
       "      <th>config_C+3</th>\n",
       "      <th>going_GOOD</th>\n",
       "      <th>going_GOOD TO FIRM</th>\n",
       "      <th>going_GOOD TO YIELDING</th>\n",
       "      <th>going_SLOW</th>\n",
       "      <th>going_SOFT</th>\n",
       "      <th>going_WET FAST</th>\n",
       "      <th>going_WET SLOW</th>\n",
       "      <th>going_YIELDING</th>\n",
       "      <th>going_YIELDING TO SOFT</th>\n",
       "    </tr>\n",
       "  </thead>\n",
       "  <tbody>\n",
       "    <tr>\n",
       "      <th>0</th>\n",
       "      <td>0.142857</td>\n",
       "      <td>0.378151</td>\n",
       "      <td>0.483728</td>\n",
       "      <td>1.000000</td>\n",
       "      <td>0.428571</td>\n",
       "      <td>0.088776</td>\n",
       "      <td>0.030337</td>\n",
       "      <td>0</td>\n",
       "      <td>0.285714</td>\n",
       "      <td>0.384615</td>\n",
       "      <td>...</td>\n",
       "      <td>0</td>\n",
       "      <td>0</td>\n",
       "      <td>1</td>\n",
       "      <td>0</td>\n",
       "      <td>0</td>\n",
       "      <td>0</td>\n",
       "      <td>0</td>\n",
       "      <td>0</td>\n",
       "      <td>0</td>\n",
       "      <td>0</td>\n",
       "    </tr>\n",
       "    <tr>\n",
       "      <th>1</th>\n",
       "      <td>0.142857</td>\n",
       "      <td>0.378151</td>\n",
       "      <td>0.424556</td>\n",
       "      <td>1.000000</td>\n",
       "      <td>0.785714</td>\n",
       "      <td>0.153061</td>\n",
       "      <td>0.043820</td>\n",
       "      <td>0</td>\n",
       "      <td>0.285714</td>\n",
       "      <td>0.384615</td>\n",
       "      <td>...</td>\n",
       "      <td>0</td>\n",
       "      <td>0</td>\n",
       "      <td>1</td>\n",
       "      <td>0</td>\n",
       "      <td>0</td>\n",
       "      <td>0</td>\n",
       "      <td>0</td>\n",
       "      <td>0</td>\n",
       "      <td>0</td>\n",
       "      <td>0</td>\n",
       "    </tr>\n",
       "    <tr>\n",
       "      <th>2</th>\n",
       "      <td>0.142857</td>\n",
       "      <td>0.378151</td>\n",
       "      <td>0.575444</td>\n",
       "      <td>0.966667</td>\n",
       "      <td>0.500000</td>\n",
       "      <td>0.025510</td>\n",
       "      <td>0.005618</td>\n",
       "      <td>0</td>\n",
       "      <td>0.285714</td>\n",
       "      <td>0.384615</td>\n",
       "      <td>...</td>\n",
       "      <td>0</td>\n",
       "      <td>0</td>\n",
       "      <td>1</td>\n",
       "      <td>0</td>\n",
       "      <td>0</td>\n",
       "      <td>0</td>\n",
       "      <td>0</td>\n",
       "      <td>0</td>\n",
       "      <td>0</td>\n",
       "      <td>0</td>\n",
       "    </tr>\n",
       "    <tr>\n",
       "      <th>3</th>\n",
       "      <td>0.142857</td>\n",
       "      <td>0.378151</td>\n",
       "      <td>0.628698</td>\n",
       "      <td>0.800000</td>\n",
       "      <td>0.857143</td>\n",
       "      <td>0.387755</td>\n",
       "      <td>0.112360</td>\n",
       "      <td>0</td>\n",
       "      <td>0.285714</td>\n",
       "      <td>0.384615</td>\n",
       "      <td>...</td>\n",
       "      <td>0</td>\n",
       "      <td>0</td>\n",
       "      <td>1</td>\n",
       "      <td>0</td>\n",
       "      <td>0</td>\n",
       "      <td>0</td>\n",
       "      <td>0</td>\n",
       "      <td>0</td>\n",
       "      <td>0</td>\n",
       "      <td>0</td>\n",
       "    </tr>\n",
       "    <tr>\n",
       "      <th>4</th>\n",
       "      <td>0.142857</td>\n",
       "      <td>0.378151</td>\n",
       "      <td>0.412722</td>\n",
       "      <td>0.933333</td>\n",
       "      <td>0.928571</td>\n",
       "      <td>0.500000</td>\n",
       "      <td>0.146067</td>\n",
       "      <td>0</td>\n",
       "      <td>0.285714</td>\n",
       "      <td>0.384615</td>\n",
       "      <td>...</td>\n",
       "      <td>0</td>\n",
       "      <td>0</td>\n",
       "      <td>1</td>\n",
       "      <td>0</td>\n",
       "      <td>0</td>\n",
       "      <td>0</td>\n",
       "      <td>0</td>\n",
       "      <td>0</td>\n",
       "      <td>0</td>\n",
       "      <td>0</td>\n",
       "    </tr>\n",
       "  </tbody>\n",
       "</table>\n",
       "<p>5 rows × 72 columns</p>\n",
       "</div>"
      ],
      "text/plain": [
       "   horse_age  horse_rating  declared_weight  actual_weight      draw  \\\n",
       "0   0.142857      0.378151         0.483728       1.000000  0.428571   \n",
       "1   0.142857      0.378151         0.424556       1.000000  0.785714   \n",
       "2   0.142857      0.378151         0.575444       0.966667  0.500000   \n",
       "3   0.142857      0.378151         0.628698       0.800000  0.857143   \n",
       "4   0.142857      0.378151         0.412722       0.933333  0.928571   \n",
       "\n",
       "   win_odds  place_odds  surface  distance  race_class  ...  config_C+3  \\\n",
       "0  0.088776    0.030337        0  0.285714    0.384615  ...           0   \n",
       "1  0.153061    0.043820        0  0.285714    0.384615  ...           0   \n",
       "2  0.025510    0.005618        0  0.285714    0.384615  ...           0   \n",
       "3  0.387755    0.112360        0  0.285714    0.384615  ...           0   \n",
       "4  0.500000    0.146067        0  0.285714    0.384615  ...           0   \n",
       "\n",
       "   going_GOOD  going_GOOD TO FIRM  going_GOOD TO YIELDING  going_SLOW  \\\n",
       "0           0                   1                       0           0   \n",
       "1           0                   1                       0           0   \n",
       "2           0                   1                       0           0   \n",
       "3           0                   1                       0           0   \n",
       "4           0                   1                       0           0   \n",
       "\n",
       "   going_SOFT  going_WET FAST  going_WET SLOW  going_YIELDING  \\\n",
       "0           0               0               0               0   \n",
       "1           0               0               0               0   \n",
       "2           0               0               0               0   \n",
       "3           0               0               0               0   \n",
       "4           0               0               0               0   \n",
       "\n",
       "   going_YIELDING TO SOFT  \n",
       "0                       0  \n",
       "1                       0  \n",
       "2                       0  \n",
       "3                       0  \n",
       "4                       0  \n",
       "\n",
       "[5 rows x 72 columns]"
      ]
     },
     "execution_count": 3,
     "metadata": {},
     "output_type": "execute_result"
    }
   ],
   "source": [
    "# load scale library\n",
    "from sklearn.preprocessing import StandardScaler\n",
    "from sklearn.preprocessing import MinMaxScaler\n",
    "\n",
    "# scale data\n",
    "scale = ['horse_age', 'horse_rating', 'declared_weight','actual_weight', 'draw', 'win_odds', \n",
    "         'place_odds', 'distance','race_class', 'temprature', 'race_count', 'days_since_race', 'recent_result', \n",
    "         'average_result', 'recent_lengths_behind', 'average_lengths_behind', 'recent_normal_speed',\n",
    "         'average_normal_speed', 'recent_race_class','average_race_class', 'recent_draw', 'average_draw',\n",
    "         'recent_actual_weight', 'average_actual_weight', 'distance_pref', 'surface_pref', \n",
    "         'going_pref', 'venue_pref', 'recent_jockey_prof','average_jockey_prof', 'recent_trainer_perf', \n",
    "         'average_trainer_perf', 'recent_jockey_skill', 'average_jockey_skill']\n",
    "\n",
    "# initiate scalar\n",
    "#scaler = StandardScaler()\n",
    "scaler = MinMaxScaler()\n",
    "\n",
    "# fit and transform sets\n",
    "scaler.fit(X_train[scale])\n",
    "X_train[scale] = scaler.transform(X_train[scale])\n",
    "X_test[scale] = scaler.transform(X_test[scale])\n",
    "\n",
    "# save and remove 'race_id'\n",
    "race_id_train = X_train['race_id']\n",
    "race_id_test = X_test['race_id']\n",
    "X_train = X_train.drop('race_id',axis=1)\n",
    "X_test = X_test.drop('race_id',axis=1)\n",
    "\n",
    "X_train.head()"
   ]
  },
  {
   "cell_type": "code",
   "execution_count": 8,
   "metadata": {},
   "outputs": [
    {
     "data": {
      "image/png": "[encoded data removed]",
      "text/plain": [
       "<Figure size 432x288 with 1 Axes>"
      ]
     },
     "metadata": {
      "needs_background": "light"
     },
     "output_type": "display_data"
    }
   ],
   "source": [
    "plt.scatter(df['horse_country_AUS'], df['result'], color='green')\n",
    "plt.title('Stock Index Price Vs Unemployment Rate', fontsize=14)\n",
    "plt.xlabel('Unemployment Rate', fontsize=14)\n",
    "plt.ylabel('Stock Index Price', fontsize=14)\n",
    "plt.grid(True)\n",
    "plt.show()"
   ]
  },
  {
   "cell_type": "markdown",
   "metadata": {},
   "source": [
    "## Feature Selection\n",
    "\n",
    "#### Accuracy Function"
   ]
  },
  {
   "cell_type": "code",
   "execution_count": 4,
   "metadata": {},
   "outputs": [],
   "source": [
    "# define true positive acuracy for 1st place function\n",
    "def p_accuracy(y_hat,y_true):\n",
    "    y_hat_1 = y_hat == 1\n",
    "    y_1 = y_true == 1\n",
    "    y_0 = y_true == 0\n",
    "    tp = np.mean(y_hat_1 & y_1)\n",
    "    fp = np.mean(y_hat_1 & y_0)\n",
    "    return tp, fp"
   ]
  },
  {
   "cell_type": "markdown",
   "metadata": {},
   "source": [
    "#### Best Parameters for Model with 'Won' Target\n",
    " - logistic: class_weight='balanced', C=1, solver='saga', penalty='l2'\n",
    " - decision tree: ctiterion='entropy', class_weight='none'\n",
    " \n",
    "#### Best Parameters for Model with 'Result' Target\n",
    " - logistic: class_weight='balanced', C=10, solver='saga', penalty='l2'\n",
    " - decision tree: ctiterion='entropy', class_weight='none'"
   ]
  },
  {
   "cell_type": "markdown",
   "metadata": {},
   "source": [
    "#### Embedded Method: Lasso Regulation"
   ]
  },
  {
   "cell_type": "code",
   "execution_count": 5,
   "metadata": {},
   "outputs": [],
   "source": [
    "# load libraries\n",
    "from sklearn.linear_model import Lasso\n",
    "from sklearn.metrics import r2_score\n",
    "import matplotlib.pyplot as plt\n",
    "\n",
    "# define parameters and structures\n",
    "alphas=10**np.linspace(1,-2,100)*0.5\n",
    "tps = []\n",
    "fps = []\n",
    "lcoef = []\n",
    "R2 = []\n",
    "\n",
    "# find best alpha\n",
    "for alpha in alphas:\n",
    "    \n",
    "    # run lasso for each alpha\n",
    "    lasso = Lasso(alpha=alpha, copy_X=True, random_state=42, max_iter=100000)\n",
    "    lasso.fit(X_train, y_train)\n",
    "    y_pred = lasso.predict(X_test)\n",
    "    tp, fp = p_accuracy(y_pred, y_test)\n",
    "    tps += [tp]\n",
    "    fps += [fp]\n",
    "    lcoef += [lasso.coef_.tolist()]\n",
    "    R2 += [r2_score(y_test, y_pred)]"
   ]
  },
  {
   "cell_type": "code",
   "execution_count": 6,
   "metadata": {},
   "outputs": [
    {
     "name": "stdout",
     "output_type": "stream",
     "text": [
      "Best Lasso\n",
      "Alpha: 0.005\n",
      "R2   : 0.264\n",
      "TP   : 0.0\n",
      "FP   : 0.0\n"
     ]
    },
    {
     "data": {
      "image/png": "[encoded data removed]",
      "text/plain": [
       "<Figure size 864x576 with 4 Axes>"
      ]
     },
     "metadata": {
      "needs_background": "light"
     },
     "output_type": "display_data"
    }
   ],
   "source": [
    "# output best alpha and R2\n",
    "TP = pd.Series(tps)\n",
    "R2 = pd.Series(R2)\n",
    "FP = pd.Series(fps)\n",
    "idxmax = R2.idxmax()\n",
    "print('Best Lasso\\nAlpha:', alphas[idxmax])\n",
    "print('R2   :',round(R2[idxmax],3))\n",
    "print('TP   :',round(TP[idxmax],3))\n",
    "print('FP   :',round(FP[idxmax],3))\n",
    "\n",
    "# plot R2 and Coef\n",
    "fig, ([ax1, ax2], [ax3, ax4]) = plt.subplots(2, 2,figsize=(12,8))\n",
    "fig.suptitle('Regression Values Across Alphas')\n",
    "\n",
    "ax1.plot(np.log(alphas), TP, '.-')\n",
    "ax1.set_ylabel('True Positive Rate')\n",
    "ax1.set_xlabel('Log Alpha')\n",
    "\n",
    "ax2.plot(np.log(alphas), FP, '.-')\n",
    "ax2.set_ylabel('False Positive Rate')\n",
    "ax2.set_xlabel('Log Alpha')\n",
    "\n",
    "ax3.plot(np.log(alphas), R2, '.-')\n",
    "ax3.set_ylabel('R2 Score')\n",
    "ax3.set_xlabel('Log Alpha')\n",
    "\n",
    "ax4.plot(np.log(alphas), lcoef, '.-')\n",
    "ax4.set_ylabel('Lasso Coef')\n",
    "ax4.set_xlabel('Log Alpha')\n",
    "\n",
    "plt.show()"
   ]
  },
  {
   "cell_type": "code",
   "execution_count": 7,
   "metadata": {},
   "outputs": [
    {
     "name": "stdout",
     "output_type": "stream",
     "text": [
      "# non-zero coef: 14\n"
     ]
    },
    {
     "data": {
      "text/html": [
       "<div>\n",
       "<style scoped>\n",
       "    .dataframe tbody tr th:only-of-type {\n",
       "        vertical-align: middle;\n",
       "    }\n",
       "\n",
       "    .dataframe tbody tr th {\n",
       "        vertical-align: top;\n",
       "    }\n",
       "\n",
       "    .dataframe thead th {\n",
       "        text-align: right;\n",
       "    }\n",
       "</style>\n",
       "<table border=\"1\" class=\"dataframe\">\n",
       "  <thead>\n",
       "    <tr style=\"text-align: right;\">\n",
       "      <th></th>\n",
       "      <th>actual_weight</th>\n",
       "      <th>draw</th>\n",
       "      <th>win_odds</th>\n",
       "      <th>place_odds</th>\n",
       "      <th>surface</th>\n",
       "      <th>distance</th>\n",
       "      <th>race_count</th>\n",
       "      <th>recent_result</th>\n",
       "      <th>distance_pref</th>\n",
       "      <th>surface_pref</th>\n",
       "      <th>average_jockey_prof</th>\n",
       "      <th>recent_trainer_perf</th>\n",
       "      <th>horse_country_AUS</th>\n",
       "      <th>venue_ST</th>\n",
       "    </tr>\n",
       "  </thead>\n",
       "  <tbody>\n",
       "    <tr>\n",
       "      <th>0</th>\n",
       "      <td>0.700000</td>\n",
       "      <td>0.285714</td>\n",
       "      <td>0.265306</td>\n",
       "      <td>0.083146</td>\n",
       "      <td>0</td>\n",
       "      <td>0.428571</td>\n",
       "      <td>0.0</td>\n",
       "      <td>0.769231</td>\n",
       "      <td>0.769231</td>\n",
       "      <td>0.769231</td>\n",
       "      <td>0.526627</td>\n",
       "      <td>0.230769</td>\n",
       "      <td>0</td>\n",
       "      <td>1</td>\n",
       "    </tr>\n",
       "    <tr>\n",
       "      <th>1</th>\n",
       "      <td>0.500000</td>\n",
       "      <td>0.071429</td>\n",
       "      <td>0.091837</td>\n",
       "      <td>0.020225</td>\n",
       "      <td>0</td>\n",
       "      <td>0.428571</td>\n",
       "      <td>0.0</td>\n",
       "      <td>0.461538</td>\n",
       "      <td>0.461538</td>\n",
       "      <td>0.461538</td>\n",
       "      <td>0.576923</td>\n",
       "      <td>0.615385</td>\n",
       "      <td>1</td>\n",
       "      <td>1</td>\n",
       "    </tr>\n",
       "    <tr>\n",
       "      <th>2</th>\n",
       "      <td>0.766667</td>\n",
       "      <td>0.857143</td>\n",
       "      <td>0.036735</td>\n",
       "      <td>0.010112</td>\n",
       "      <td>0</td>\n",
       "      <td>0.285714</td>\n",
       "      <td>0.0</td>\n",
       "      <td>0.153846</td>\n",
       "      <td>0.153846</td>\n",
       "      <td>0.153846</td>\n",
       "      <td>0.393162</td>\n",
       "      <td>0.538462</td>\n",
       "      <td>1</td>\n",
       "      <td>1</td>\n",
       "    </tr>\n",
       "    <tr>\n",
       "      <th>3</th>\n",
       "      <td>0.933333</td>\n",
       "      <td>0.214286</td>\n",
       "      <td>0.084694</td>\n",
       "      <td>0.014607</td>\n",
       "      <td>0</td>\n",
       "      <td>0.571429</td>\n",
       "      <td>0.0</td>\n",
       "      <td>0.384615</td>\n",
       "      <td>0.384615</td>\n",
       "      <td>0.384615</td>\n",
       "      <td>0.454849</td>\n",
       "      <td>0.538462</td>\n",
       "      <td>0</td>\n",
       "      <td>0</td>\n",
       "    </tr>\n",
       "    <tr>\n",
       "      <th>4</th>\n",
       "      <td>0.666667</td>\n",
       "      <td>0.285714</td>\n",
       "      <td>0.034694</td>\n",
       "      <td>0.006742</td>\n",
       "      <td>0</td>\n",
       "      <td>0.571429</td>\n",
       "      <td>0.0</td>\n",
       "      <td>0.769231</td>\n",
       "      <td>0.769231</td>\n",
       "      <td>0.769231</td>\n",
       "      <td>0.520147</td>\n",
       "      <td>0.692308</td>\n",
       "      <td>0</td>\n",
       "      <td>0</td>\n",
       "    </tr>\n",
       "  </tbody>\n",
       "</table>\n",
       "</div>"
      ],
      "text/plain": [
       "   actual_weight      draw  win_odds  place_odds  surface  distance  \\\n",
       "0       0.700000  0.285714  0.265306    0.083146        0  0.428571   \n",
       "1       0.500000  0.071429  0.091837    0.020225        0  0.428571   \n",
       "2       0.766667  0.857143  0.036735    0.010112        0  0.285714   \n",
       "3       0.933333  0.214286  0.084694    0.014607        0  0.571429   \n",
       "4       0.666667  0.285714  0.034694    0.006742        0  0.571429   \n",
       "\n",
       "   race_count  recent_result  distance_pref  surface_pref  \\\n",
       "0         0.0       0.769231       0.769231      0.769231   \n",
       "1         0.0       0.461538       0.461538      0.461538   \n",
       "2         0.0       0.153846       0.153846      0.153846   \n",
       "3         0.0       0.384615       0.384615      0.384615   \n",
       "4         0.0       0.769231       0.769231      0.769231   \n",
       "\n",
       "   average_jockey_prof  recent_trainer_perf  horse_country_AUS  venue_ST  \n",
       "0             0.526627             0.230769                  0         1  \n",
       "1             0.576923             0.615385                  1         1  \n",
       "2             0.393162             0.538462                  1         1  \n",
       "3             0.454849             0.538462                  0         0  \n",
       "4             0.520147             0.692308                  0         0  "
      ]
     },
     "execution_count": 7,
     "metadata": {},
     "output_type": "execute_result"
    }
   ],
   "source": [
    "# store best\n",
    "lasso = Lasso(alpha=alphas[idxmax], copy_X=True, random_state=42, max_iter=100000)\n",
    "lasso.fit(X_train, y_train)\n",
    "\n",
    "# set lasso X test and train\n",
    "coef = lasso.coef_ > 0\n",
    "X_train_lasso = X_train.iloc[:,coef]\n",
    "X_test_lasso = X_test.iloc[:,coef].reset_index(drop=True)\n",
    "\n",
    "# show non-zero coeff\n",
    "print('# non-zero coef:', len(coef[coef == True]))\n",
    "X_train_lasso.head()"
   ]
  },
  {
   "cell_type": "markdown",
   "metadata": {},
   "source": [
    "#### Wrapper Methods: Stepwise Forward and Backwards Exlusion (RFE) "
   ]
  },
  {
   "cell_type": "code",
   "execution_count": 8,
   "metadata": {},
   "outputs": [
    {
     "name": "stderr",
     "output_type": "stream",
     "text": [
      "C:\\Users\\shanc\\Anaconda3\\lib\\site-packages\\numpy\\core\\_methods.py:217: RuntimeWarning: Degrees of freedom <= 0 for slice\n",
      "  keepdims=keepdims)\n",
      "C:\\Users\\shanc\\Anaconda3\\lib\\site-packages\\numpy\\core\\_methods.py:209: RuntimeWarning: invalid value encountered in double_scalars\n",
      "  ret = ret.dtype.type(ret / rcount)\n"
     ]
    },
    {
     "data": {
      "image/png": "[encoded data removed]",
      "text/plain": [
       "<Figure size 432x288 with 1 Axes>"
      ]
     },
     "metadata": {
      "needs_background": "light"
     },
     "output_type": "display_data"
    }
   ],
   "source": [
    "# import feature selection libraries\n",
    "from mlxtend.feature_selection import SequentialFeatureSelector as SFS\n",
    "from mlxtend.plotting import plot_sequential_feature_selection as plot_sfs\n",
    "from sklearn.linear_model import LinearRegression\n",
    "import matplotlib.pyplot as plt\n",
    "\n",
    "# Sequential Forward Selection (sfs) with R2 as evaluator\n",
    "# using LinearRegression for speed\n",
    "sfs = SFS(LinearRegression(), k_features=25, forward=True, floating=False, scoring = 'r2', cv = 0)\n",
    "sfs.fit(X_train, y_train)\n",
    "\n",
    "# plot to find best # of feature to select\n",
    "fig1 = plot_sfs(sfs.get_metric_dict(), kind='std_dev')\n",
    "plt.title('Sequential Forward Selection (w. StdErr)')\n",
    "plt.grid()\n",
    "plt.show()"
   ]
  },
  {
   "cell_type": "code",
   "execution_count": 9,
   "metadata": {},
   "outputs": [
    {
     "name": "stdout",
     "output_type": "stream",
     "text": [
      "# selected features: 17\n"
     ]
    },
    {
     "data": {
      "text/html": [
       "<div>\n",
       "<style scoped>\n",
       "    .dataframe tbody tr th:only-of-type {\n",
       "        vertical-align: middle;\n",
       "    }\n",
       "\n",
       "    .dataframe tbody tr th {\n",
       "        vertical-align: top;\n",
       "    }\n",
       "\n",
       "    .dataframe thead th {\n",
       "        text-align: right;\n",
       "    }\n",
       "</style>\n",
       "<table border=\"1\" class=\"dataframe\">\n",
       "  <thead>\n",
       "    <tr style=\"text-align: right;\">\n",
       "      <th></th>\n",
       "      <th>horse_age</th>\n",
       "      <th>horse_rating</th>\n",
       "      <th>declared_weight</th>\n",
       "      <th>actual_weight</th>\n",
       "      <th>draw</th>\n",
       "      <th>win_odds</th>\n",
       "      <th>place_odds</th>\n",
       "      <th>distance</th>\n",
       "      <th>race_count</th>\n",
       "      <th>days_since_race</th>\n",
       "      <th>recent_result</th>\n",
       "      <th>average_normal_speed</th>\n",
       "      <th>recent_race_class</th>\n",
       "      <th>recent_draw</th>\n",
       "      <th>distance_pref</th>\n",
       "      <th>surface_pref</th>\n",
       "      <th>going_pref</th>\n",
       "    </tr>\n",
       "  </thead>\n",
       "  <tbody>\n",
       "    <tr>\n",
       "      <th>0</th>\n",
       "      <td>0.142857</td>\n",
       "      <td>0.378151</td>\n",
       "      <td>0.650888</td>\n",
       "      <td>0.700000</td>\n",
       "      <td>0.285714</td>\n",
       "      <td>0.265306</td>\n",
       "      <td>0.083146</td>\n",
       "      <td>0.428571</td>\n",
       "      <td>0.0</td>\n",
       "      <td>0.002737</td>\n",
       "      <td>0.769231</td>\n",
       "      <td>0.292431</td>\n",
       "      <td>0.307692</td>\n",
       "      <td>0.857143</td>\n",
       "      <td>0.769231</td>\n",
       "      <td>0.769231</td>\n",
       "      <td>0.769231</td>\n",
       "    </tr>\n",
       "    <tr>\n",
       "      <th>1</th>\n",
       "      <td>0.142857</td>\n",
       "      <td>0.378151</td>\n",
       "      <td>0.535503</td>\n",
       "      <td>0.500000</td>\n",
       "      <td>0.071429</td>\n",
       "      <td>0.091837</td>\n",
       "      <td>0.020225</td>\n",
       "      <td>0.428571</td>\n",
       "      <td>0.0</td>\n",
       "      <td>0.000912</td>\n",
       "      <td>0.461538</td>\n",
       "      <td>0.350537</td>\n",
       "      <td>0.307692</td>\n",
       "      <td>0.071429</td>\n",
       "      <td>0.461538</td>\n",
       "      <td>0.461538</td>\n",
       "      <td>0.461538</td>\n",
       "    </tr>\n",
       "    <tr>\n",
       "      <th>2</th>\n",
       "      <td>0.142857</td>\n",
       "      <td>0.378151</td>\n",
       "      <td>0.692308</td>\n",
       "      <td>0.766667</td>\n",
       "      <td>0.857143</td>\n",
       "      <td>0.036735</td>\n",
       "      <td>0.010112</td>\n",
       "      <td>0.285714</td>\n",
       "      <td>0.0</td>\n",
       "      <td>0.002737</td>\n",
       "      <td>0.153846</td>\n",
       "      <td>0.195348</td>\n",
       "      <td>0.384615</td>\n",
       "      <td>0.714286</td>\n",
       "      <td>0.153846</td>\n",
       "      <td>0.153846</td>\n",
       "      <td>0.153846</td>\n",
       "    </tr>\n",
       "    <tr>\n",
       "      <th>3</th>\n",
       "      <td>0.142857</td>\n",
       "      <td>0.378151</td>\n",
       "      <td>0.582840</td>\n",
       "      <td>0.933333</td>\n",
       "      <td>0.214286</td>\n",
       "      <td>0.084694</td>\n",
       "      <td>0.014607</td>\n",
       "      <td>0.571429</td>\n",
       "      <td>0.0</td>\n",
       "      <td>0.003650</td>\n",
       "      <td>0.384615</td>\n",
       "      <td>0.350178</td>\n",
       "      <td>0.307692</td>\n",
       "      <td>0.785714</td>\n",
       "      <td>0.384615</td>\n",
       "      <td>0.384615</td>\n",
       "      <td>0.384615</td>\n",
       "    </tr>\n",
       "    <tr>\n",
       "      <th>4</th>\n",
       "      <td>0.142857</td>\n",
       "      <td>0.378151</td>\n",
       "      <td>0.647929</td>\n",
       "      <td>0.666667</td>\n",
       "      <td>0.285714</td>\n",
       "      <td>0.034694</td>\n",
       "      <td>0.006742</td>\n",
       "      <td>0.571429</td>\n",
       "      <td>0.0</td>\n",
       "      <td>0.005474</td>\n",
       "      <td>0.769231</td>\n",
       "      <td>0.273634</td>\n",
       "      <td>0.307692</td>\n",
       "      <td>0.785714</td>\n",
       "      <td>0.769231</td>\n",
       "      <td>0.769231</td>\n",
       "      <td>0.769231</td>\n",
       "    </tr>\n",
       "  </tbody>\n",
       "</table>\n",
       "</div>"
      ],
      "text/plain": [
       "   horse_age  horse_rating  declared_weight  actual_weight      draw  \\\n",
       "0   0.142857      0.378151         0.650888       0.700000  0.285714   \n",
       "1   0.142857      0.378151         0.535503       0.500000  0.071429   \n",
       "2   0.142857      0.378151         0.692308       0.766667  0.857143   \n",
       "3   0.142857      0.378151         0.582840       0.933333  0.214286   \n",
       "4   0.142857      0.378151         0.647929       0.666667  0.285714   \n",
       "\n",
       "   win_odds  place_odds  distance  race_count  days_since_race  recent_result  \\\n",
       "0  0.265306    0.083146  0.428571         0.0         0.002737       0.769231   \n",
       "1  0.091837    0.020225  0.428571         0.0         0.000912       0.461538   \n",
       "2  0.036735    0.010112  0.285714         0.0         0.002737       0.153846   \n",
       "3  0.084694    0.014607  0.571429         0.0         0.003650       0.384615   \n",
       "4  0.034694    0.006742  0.571429         0.0         0.005474       0.769231   \n",
       "\n",
       "   average_normal_speed  recent_race_class  recent_draw  distance_pref  \\\n",
       "0              0.292431           0.307692     0.857143       0.769231   \n",
       "1              0.350537           0.307692     0.071429       0.461538   \n",
       "2              0.195348           0.384615     0.714286       0.153846   \n",
       "3              0.350178           0.307692     0.785714       0.384615   \n",
       "4              0.273634           0.307692     0.785714       0.769231   \n",
       "\n",
       "   surface_pref  going_pref  \n",
       "0      0.769231    0.769231  \n",
       "1      0.461538    0.461538  \n",
       "2      0.153846    0.153846  \n",
       "3      0.384615    0.384615  \n",
       "4      0.769231    0.769231  "
      ]
     },
     "execution_count": 9,
     "metadata": {},
     "output_type": "execute_result"
    }
   ],
   "source": [
    "# save selected features to X test & train\n",
    "coef = sfs.k_feature_names_[0:17]\n",
    "X_train_forward = X_train.loc[:,coef]\n",
    "X_test_forward = X_test.loc[:,coef].reset_index(drop=True)\n",
    "\n",
    "# show selected features\n",
    "print('# selected features:', len(coef))\n",
    "X_train_forward.head()"
   ]
  },
  {
   "cell_type": "code",
   "execution_count": null,
   "metadata": {},
   "outputs": [],
   "source": [
    "# import feature selection libraries\n",
    "from mlxtend.feature_selection import SequentialFeatureSelector as SFS\n",
    "from mlxtend.plotting import plot_sequential_feature_selection as plot_sfs\n",
    "from sklearn.linear_model import LogisticRegression\n",
    "import matplotlib.pyplot as plt\n",
    "\n",
    "# Sequential Forward Selection (sfs) with R2 as evaluator\n",
    "logit = LogisticRegression(max_iter=10000,class_weight='balanced',C=10,solver='saga')\n",
    "sfs1 = SFS(logit, k_features=25, forward=True, floating=False, scoring = 'r2', cv = 0)\n",
    "sfs1.fit(X_train, y_train)\n",
    "\n",
    "# plot to find best # of feature to select\n",
    "fig1 = plot_sfs(sfs1.get_metric_dict(), kind='std_dev')\n",
    "plt.title('Sequential Forward Selection (w. StdErr)')\n",
    "plt.grid()\n",
    "plt.show()"
   ]
  },
  {
   "cell_type": "code",
   "execution_count": null,
   "metadata": {},
   "outputs": [],
   "source": [
    "# save selected features to X test & train\n",
    "coef = sfs1.k_feature_names_[0:10]\n",
    "sfs_train = X_train.loc[:,coef]\n",
    "sfs_test = X_test.loc[:,coef].reset_index(drop=True)\n",
    "\n",
    "# show selected features\n",
    "print('# selected features:', len(coef))\n",
    "sfs_test.head()"
   ]
  },
  {
   "cell_type": "markdown",
   "metadata": {},
   "source": [
    "#### RFE"
   ]
  },
  {
   "cell_type": "code",
   "execution_count": null,
   "metadata": {},
   "outputs": [],
   "source": [
    "# import feature selection libraries\n",
    "from sklearn.linear_model import LogisticRegression\n",
    "from sklearn.feature_selection import RFE\n",
    "\n",
    "# run recursive feature elimination\n",
    "estimator = LogisticRegression(max_iter=10000,class_weight='balanced',C=10,solver='saga')\n",
    "rfe = RFE(estimator, n_features_to_select=18, step=1) #18 is best for rfe\n",
    "rfe = rfe.fit(X_train, y_train)"
   ]
  },
  {
   "cell_type": "code",
   "execution_count": null,
   "metadata": {},
   "outputs": [],
   "source": [
    "# get test and train\n",
    "cols = rfe.support_\n",
    "rfe_train = X_train.loc[:,cols]\n",
    "rfe_test = X_test.loc[:,cols]\n",
    "test_pred = rfe.estimator_.predict(rfe_test)\n",
    "train_acc = round(rfe.estimator_.score(rfe_train, y_train),4)\n",
    "test_acc = round(rfe.estimator_.score(rfe_test, y_test),4)\n",
    "r2 = round(r2_score(y_test, test_pred),4)\n",
    "print('RFE Results')\n",
    "print('Number Features:',18)\n",
    "print('Train Accuracy:',train_acc)\n",
    "print('Test Accuracy:',test_acc)\n",
    "print('R2 Score:',r2)\n",
    "\n",
    "rfe_train.head()"
   ]
  },
  {
   "cell_type": "markdown",
   "metadata": {},
   "source": [
    "#### PCA Method"
   ]
  },
  {
   "cell_type": "code",
   "execution_count": 227,
   "metadata": {},
   "outputs": [
    {
     "name": "stdout",
     "output_type": "stream",
     "text": [
      "Min PC to Explain 80% Variance: 16\n",
      "% Explained: 80.08\n"
     ]
    },
    {
     "data": {
      "image/png": "[encoded data removed]",
      "text/plain": [
       "<Figure size 720x288 with 2 Axes>"
      ]
     },
     "metadata": {
      "needs_background": "light"
     },
     "output_type": "display_data"
    }
   ],
   "source": [
    "# load PCA libraries\n",
    "from sklearn.decomposition import PCA\n",
    "\n",
    "# run PCA\n",
    "pca_70 = PCA(n_components=70)\n",
    "pc70_train = pd.DataFrame(pca_70.fit_transform(X_train))\n",
    "pc70_test = pd.DataFrame(pca_70.transform(X_test))\n",
    "\n",
    "# find desired size (80% of variance)\n",
    "percent_variance = np.round(pca_70.explained_variance_ratio_*100, decimals=2)\n",
    "cum_variance = []\n",
    "cum = 0\n",
    "for i in percent_variance:\n",
    "    cum += i\n",
    "    cum_variance += [cum]\n",
    "    \n",
    "# get # of PC to explain 80% of variance\n",
    "cum_variance = pd.Series(cum_variance)\n",
    "idxmin = cum_variance[cum_variance >= 80].idxmin()\n",
    "print('Min PC to Explain 80% Variance:',idxmin+1)\n",
    "print('% Explained:', cum_variance[idxmin])\n",
    "\n",
    "# split into PC_small = pc15 test and train data\n",
    "pc15_train = pc70_train.iloc[:,0:idxmin]\n",
    "pc15_test = pc70_test.iloc[:,0:idxmin]\n",
    "\n",
    "# plot results\n",
    "fig, (ax1, ax2) = plt.subplots(1, 2, figsize=(10,4))\n",
    "fig.suptitle('Regression Values Across Alphas')\n",
    "\n",
    "ax1.bar(x= range(1,71), height=percent_variance)\n",
    "ax1.set_title('PCA Scree Plot')\n",
    "ax1.set_ylabel('% Variance')\n",
    "ax1.set_xlabel('# Principle Components')\n",
    "\n",
    "ax2.plot(cum_variance)\n",
    "ax2.set_title('Cummulative Variance')\n",
    "ax2.set_ylabel('% Variance')\n",
    "ax2.set_xlabel('# Principle Components')\n",
    "\n",
    "plt.show()"
   ]
  },
  {
   "cell_type": "code",
   "execution_count": null,
   "metadata": {},
   "outputs": [],
   "source": [
    "# output features for quick hard coding\n",
    "print('Forward (linear):\\n',X_train_forward.columns.values)\n",
    "print('Forward (logit):\\n',sfs_train.columns.values)\n",
    "print('RFE:\\n',rfe_train.columns.values)"
   ]
  },
  {
   "cell_type": "markdown",
   "metadata": {},
   "source": [
    "## Model Exploration: Simple Models \n",
    "\n",
    "Selected features: complete, lasso, forward, RFE, PCA 70, PCA 15"
   ]
  },
  {
   "cell_type": "code",
   "execution_count": null,
   "metadata": {},
   "outputs": [],
   "source": [
    "# select what models to run\n",
    "knn_key = False\n",
    "lin_key = False\n",
    "logit_key = True\n",
    "dt_key = True\n",
    "bagging_key = False\n",
    "\n",
    "# select what selections to run\n",
    "lasso_key = False\n",
    "f_key = True\n",
    "f2_key = False\n",
    "rfe_key = False\n",
    "pc_key = True"
   ]
  },
  {
   "cell_type": "markdown",
   "metadata": {},
   "source": [
    "### kNN"
   ]
  },
  {
   "cell_type": "code",
   "execution_count": null,
   "metadata": {},
   "outputs": [],
   "source": [
    "# load knn library\n",
    "from sklearn.neighbors import KNeighborsClassifier\n",
    "from sklearn.metrics import r2_score\n",
    "\n",
    "def get_best_knn(X_train,X_test,y_train,y_test,key=True):\n",
    "    \n",
    "    # check model key\n",
    "    if knn_key == False or key == False:\n",
    "        return np.nan, np.nan, np.nan, np.nan\n",
    "    \n",
    "    # run knn model\n",
    "    test_error = []\n",
    "    train_error = []\n",
    "    r2 = []\n",
    "    for n in range(2,20):\n",
    "        knn = KNeighborsClassifier(n_neighbors=n)\n",
    "        knn.fit(X_train, y_train)\n",
    "        pred_test = knn.predict(X_test)\n",
    "        pred_train = knn.predict(X_train)\n",
    "        train_error.append(np.mean(pred_train != y_train))\n",
    "        test_error.append(np.mean(pred_test != y_test))\n",
    "        r2.append(r2_score(y_test, pred_test))\n",
    "\n",
    "    # plot knn error\n",
    "    error = pd.DataFrame([test_error, train_error], index=['Test','Train']).T\n",
    "    error.plot(figsize=(12,4))\n",
    "    plt.title('Error Rate Over K Value')\n",
    "    plt.xlabel('K Value')\n",
    "    plt.ylabel('Error')\n",
    "    plt.show()\n",
    "    \n",
    "    # out best errors\n",
    "    train_error = pd.Series(train_error)\n",
    "    r2 = pd.Series(r2)\n",
    "    min_test = min(test_error)\n",
    "    train_acc = 1 - round(train_error[test_error == min_test].values[0],4)\n",
    "    k = train_error[test_error == min_test].index[0]\n",
    "    r2 = round(r2[test_error == min_test].values[0],4)\n",
    "    test_acc = 1- round((min_test,4))\n",
    "    \n",
    "    return test_acc, train_acc, k, r2"
   ]
  },
  {
   "cell_type": "code",
   "execution_count": null,
   "metadata": {},
   "outputs": [],
   "source": [
    "# get best kNN on complete set\n",
    "test_acc, train_acc, k, r2 = get_best_knn(X_train,X_test,y_train,y_test)"
   ]
  },
  {
   "cell_type": "code",
   "execution_count": null,
   "metadata": {},
   "outputs": [],
   "source": [
    "# get best kNN on lasso set\n",
    "test_acc_l, train_acc_l, k_l, r2_l = get_best_knn(X_train_lasso,X_test_lasso,y_train,y_test,lasso_key)"
   ]
  },
  {
   "cell_type": "code",
   "execution_count": null,
   "metadata": {},
   "outputs": [],
   "source": [
    "# get best kNN on forward (linear) set\n",
    "test_acc_f, train_acc_f, k_f, r2_f = get_best_knn(X_train_forward,X_test_forward,y_train,y_test)"
   ]
  },
  {
   "cell_type": "code",
   "execution_count": null,
   "metadata": {},
   "outputs": [],
   "source": [
    "# get best kNN on forward (logit) set\n",
    "test_acc_f2, train_acc_f2, k_f2, r2_f2 = get_best_knn(sfs_train,sfs_test,y_train,y_test,f2_key)"
   ]
  },
  {
   "cell_type": "code",
   "execution_count": null,
   "metadata": {},
   "outputs": [],
   "source": [
    "# get best kNN on RFE set\n",
    "test_acc_rfe, train_acc_rfe, k_rfe, r2_rfe = get_best_knn(rfe_train,rfe_test,y_train,y_test,rfe_key)"
   ]
  },
  {
   "cell_type": "code",
   "execution_count": null,
   "metadata": {},
   "outputs": [],
   "source": [
    "# get best kNN on PC_70 set\n",
    "test_acc_70, train_acc_70, k_70, r2_70 = get_best_knn(pc70_train,pc70_test,y_train,y_test)"
   ]
  },
  {
   "cell_type": "code",
   "execution_count": null,
   "metadata": {},
   "outputs": [],
   "source": [
    "# get best kNN on PC_15 set\n",
    "test_acc_15, train_acc_15, k_15, r2_15 = get_best_knn(pc15_train,pc15_test,y_train,y_test)"
   ]
  },
  {
   "cell_type": "code",
   "execution_count": null,
   "metadata": {},
   "outputs": [],
   "source": [
    "# output kNN results\n",
    "out = pd.DataFrame()\n",
    "out['Complete'] = [k, test_acc, train_acc, r2]\n",
    "out['Lasso'] = [k_l, test_acc_l, train_acc_l, r2_l]\n",
    "out['Forward'] = [k_f, test_acc_f, train_acc_f, r2_f]\n",
    "out['Forward 2'] = [k_f2, test_acc_f2, train_acc_f2, r2_f2]\n",
    "out['RFE'] = [k_rfe, test_acc_rfe, train_acc_rfe, r2_rfe]\n",
    "out['PC_70'] = [k_70, test_acc_70, train_acc_70, r2_70]\n",
    "out['PC_15'] = [k_15, test_acc_15, train_acc_15, r2_15]\n",
    "out.rename(index={0:'k value',1:'Train Accuracy',2:'Test Accuracy',3:'R2 Score'})"
   ]
  },
  {
   "cell_type": "code",
   "execution_count": null,
   "metadata": {},
   "outputs": [],
   "source": [
    "# best model knn\n",
    "'''k = 2\n",
    "X = X_train\n",
    "y = y_train\n",
    "knn = KNeighborsClassifier(n_neighbors=k)\n",
    "knn.fit(X, y)'''"
   ]
  },
  {
   "cell_type": "markdown",
   "metadata": {},
   "source": [
    "### Linear Regression"
   ]
  },
  {
   "cell_type": "code",
   "execution_count": 221,
   "metadata": {},
   "outputs": [],
   "source": [
    "# load regression library\n",
    "from sklearn.linear_model import LinearRegression\n",
    "\n",
    "# define regression function\n",
    "def get_linearReg(X_train,X_test,y_train,y_test,key=True):\n",
    "    \n",
    "    # check model key\n",
    "    if lin_key == False or key == False:\n",
    "        return np.nan, np.nan, np.nan, np.nan\n",
    "    \n",
    "    # run model\n",
    "    lin = LinearRegression()\n",
    "    lin.fit(X_train,y_train)\n",
    "    \n",
    "    # calc results\n",
    "    pred_train = round(pd.Series(lin.predict(X_train)))\n",
    "    pred_test = round(pd.Series(lin.predict(X_test)))\n",
    "    train_acc = round(np.mean(pred_train == y_train),4)\n",
    "    test_acc = round(np.mean(pred_test == y_test),4)\n",
    "    r2 = round(r2_score(y_test, pred_test),4)\n",
    "    tp, fp = p_accuracy(pred_test, y_test)\n",
    "    \n",
    "    return lin, [train_acc, test_acc, r2, tp, fp]"
   ]
  },
  {
   "cell_type": "code",
   "execution_count": 222,
   "metadata": {},
   "outputs": [
    {
     "data": {
      "text/html": [
       "<div>\n",
       "<style scoped>\n",
       "    .dataframe tbody tr th:only-of-type {\n",
       "        vertical-align: middle;\n",
       "    }\n",
       "\n",
       "    .dataframe tbody tr th {\n",
       "        vertical-align: top;\n",
       "    }\n",
       "\n",
       "    .dataframe thead th {\n",
       "        text-align: right;\n",
       "    }\n",
       "</style>\n",
       "<table border=\"1\" class=\"dataframe\">\n",
       "  <thead>\n",
       "    <tr style=\"text-align: right;\">\n",
       "      <th></th>\n",
       "      <th>Complete</th>\n",
       "    </tr>\n",
       "  </thead>\n",
       "  <tbody>\n",
       "    <tr>\n",
       "      <th>Train Accuracy</th>\n",
       "      <td>0.1023</td>\n",
       "    </tr>\n",
       "    <tr>\n",
       "      <th>Test Accuracy</th>\n",
       "      <td>0.1108</td>\n",
       "    </tr>\n",
       "    <tr>\n",
       "      <th>R2 Score</th>\n",
       "      <td>0.2559</td>\n",
       "    </tr>\n",
       "    <tr>\n",
       "      <th>TP Rate</th>\n",
       "      <td>0.0000</td>\n",
       "    </tr>\n",
       "    <tr>\n",
       "      <th>FP Rate</th>\n",
       "      <td>0.0000</td>\n",
       "    </tr>\n",
       "  </tbody>\n",
       "</table>\n",
       "</div>"
      ],
      "text/plain": [
       "                Complete\n",
       "Train Accuracy    0.1023\n",
       "Test Accuracy     0.1108\n",
       "R2 Score          0.2559\n",
       "TP Rate           0.0000\n",
       "FP Rate           0.0000"
      ]
     },
     "execution_count": 222,
     "metadata": {},
     "output_type": "execute_result"
    }
   ],
   "source": [
    "# output regression results\n",
    "out = pd.DataFrame()\n",
    "\n",
    "# get best regression on complete, lasso, forward, rfe, pc_70, and pc_16 sets\n",
    "lin_c, out['Complete']  = get_linearReg(X_train,X_test,y_train,y_test)\n",
    "lin_l, out['Lasso'] = get_linearReg(X_train_lasso,X_test_lasso,y_train,y_test,lasso_key)\n",
    "lin_f, out['Forward'] = get_linearReg(X_train_forward,X_test_forward,y_train,y_test)\n",
    "lin_f2, out['Forward 2'] = get_linearReg(sfs_train,sfs_test,y_train,y_test, f2_key)\n",
    "lin_rfe, out['RFE'] = get_linearReg(rfe_train, rfe_test, y_train, y_test,rfe_key)\n",
    "lin_70, out['PC_70']  = get_linearReg(pc70_train,pc70_test,y_train,y_test)\n",
    "lin_15, out['PC_15'] = get_linearReg(pc15_train,pc15_test,y_train,y_test)\n",
    "out = out.rename(index={0:'Train Accuracy',1:'Test Accuracy',2:'R2 Score',3:'TP Rate',4:'FP Rate'})\n",
    "\n",
    "out"
   ]
  },
  {
   "cell_type": "markdown",
   "metadata": {},
   "source": [
    "### Logistic Regression"
   ]
  },
  {
   "cell_type": "code",
   "execution_count": 163,
   "metadata": {},
   "outputs": [],
   "source": [
    "# load logit library\n",
    "from sklearn.linear_model import LogisticRegression\n",
    "\n",
    "# define regression function\n",
    "def get_logit(X_train,X_test,y_train,y_test,key=True):\n",
    "    \n",
    "    # check model key\n",
    "    if logit_key == False or key == False:\n",
    "        return np.nan, np.nan, np.nan, np.nan\n",
    "    \n",
    "    # run model\n",
    "    logit = LogisticRegression(max_iter=10000,class_weight='balanced',C=10,solver='saga')\n",
    "    logit.fit(X_train,y_train)\n",
    "    \n",
    "    # calc results\n",
    "    pred_test = round(pd.Series(logit.predict(X_test)))\n",
    "    train_acc = round(logit.score(X_train,y_train),4)\n",
    "    test_acc = round(logit.score(X_test,y_test),4)\n",
    "    r2 = round(r2_score(y_test, pred_test),4)\n",
    "    tp, fp = p_accuracy(pred_test, y_test)\n",
    "    \n",
    "    return logit, [train_acc, test_acc, r2, tp, fp]"
   ]
  },
  {
   "cell_type": "code",
   "execution_count": 164,
   "metadata": {},
   "outputs": [
    {
     "data": {
      "text/plain": [
       "'logit_l, out_l = get_logit(X_train_lasso,X_test_lasso,y_train,y_test,lasso_key)\\nlogit_f, out_f = get_logit(X_train_forward,X_test_forward,y_train,y_test)\\nlogit_f2, out_f2 = get_logit(sfs_train,sfs_test,y_train,y_test)\\nlogit_rfe, out_rfe = get_logit(rfe_train, rfe_test, y_train, y_test, rfe_key)\\nlogit_70, out_70 = get_logit(pc70_train,pc70_test,y_train,y_test)\\nlogit_15, out_15 = get_logit(pc15_train,pc15_test,y_train,y_test)'"
      ]
     },
     "execution_count": 164,
     "metadata": {},
     "output_type": "execute_result"
    }
   ],
   "source": [
    "# get best logit on complete, lasso, forward, rfe, pc_70, and pc_16 sets\n",
    "logit_c, out_c   = get_logit(X_train,X_test,y_train,y_test)\n",
    "logit_l, out_l = get_logit(X_train_lasso,X_test_lasso,y_train,y_test,lasso_key)\n",
    "logit_f, out_f = get_logit(X_train_forward,X_test_forward,y_train,y_test)\n",
    "logit_f2, out_f2 = get_logit(sfs_train,sfs_test,y_train,y_test, f2_key)\n",
    "logit_rfe, out_rfe = get_logit(rfe_train, rfe_test, y_train, y_test, rfe_key)\n",
    "logit_70, out_70 = get_logit(pc70_train,pc70_test,y_train,y_test)\n",
    "logit_15, out_15 = get_logit(pc15_train,pc15_test,y_train,y_test)"
   ]
  },
  {
   "cell_type": "code",
   "execution_count": 165,
   "metadata": {},
   "outputs": [
    {
     "data": {
      "text/html": [
       "<div>\n",
       "<style scoped>\n",
       "    .dataframe tbody tr th:only-of-type {\n",
       "        vertical-align: middle;\n",
       "    }\n",
       "\n",
       "    .dataframe tbody tr th {\n",
       "        vertical-align: top;\n",
       "    }\n",
       "\n",
       "    .dataframe thead th {\n",
       "        text-align: right;\n",
       "    }\n",
       "</style>\n",
       "<table border=\"1\" class=\"dataframe\">\n",
       "  <thead>\n",
       "    <tr style=\"text-align: right;\">\n",
       "      <th></th>\n",
       "      <th>Complete</th>\n",
       "    </tr>\n",
       "  </thead>\n",
       "  <tbody>\n",
       "    <tr>\n",
       "      <th>Train Accuracy</th>\n",
       "      <td>0.138200</td>\n",
       "    </tr>\n",
       "    <tr>\n",
       "      <th>Test Accuracy</th>\n",
       "      <td>0.135400</td>\n",
       "    </tr>\n",
       "    <tr>\n",
       "      <th>R2 Score</th>\n",
       "      <td>-0.629800</td>\n",
       "    </tr>\n",
       "    <tr>\n",
       "      <th>TP Rate</th>\n",
       "      <td>0.056418</td>\n",
       "    </tr>\n",
       "    <tr>\n",
       "      <th>FP Rate</th>\n",
       "      <td>0.000000</td>\n",
       "    </tr>\n",
       "  </tbody>\n",
       "</table>\n",
       "</div>"
      ],
      "text/plain": [
       "                Complete\n",
       "Train Accuracy  0.138200\n",
       "Test Accuracy   0.135400\n",
       "R2 Score       -0.629800\n",
       "TP Rate         0.056418\n",
       "FP Rate         0.000000"
      ]
     },
     "execution_count": 165,
     "metadata": {},
     "output_type": "execute_result"
    }
   ],
   "source": [
    "# output logit results\n",
    "out = pd.DataFrame()\n",
    "out['Complete'] = out_c\n",
    "out['Lasso'] = out_l\n",
    "out['Forward'] = out_f\n",
    "out['Forward 2'] = out_f2\n",
    "out['RFE'] = out_rfe\n",
    "out['PC_70'] = out_70\n",
    "out['PC_15'] = out_15\n",
    "out.rename(index={0:'Train Accuracy',1:'Test Accuracy',2:'R2 Score',3:'TP Rate',4:'FP Rate'})"
   ]
  },
  {
   "cell_type": "markdown",
   "metadata": {},
   "source": [
    "### Decision Tree Classifier"
   ]
  },
  {
   "cell_type": "code",
   "execution_count": 214,
   "metadata": {},
   "outputs": [],
   "source": [
    "# load decision tree libraries\n",
    "from sklearn.tree import DecisionTreeClassifier\n",
    "from sklearn.metrics import accuracy_score\n",
    "from sklearn.metrics import roc_auc_score\n",
    "\n",
    "def get_decision_tree(X_train,X_test,y_train,y_test,key=True):\n",
    "    \n",
    "    # check model key\n",
    "    if dt_key == False or key == False:\n",
    "        return np.nan, np.nan, np.nan, np.nan\n",
    "    \n",
    "    # run decision tree model\n",
    "    dtc = DecisionTreeClassifier(random_state=10, criterion='entropy')\n",
    "    dtc.fit(X_train,y_train)\n",
    "    \n",
    "    # get predictions\n",
    "    test_pred = dtc.predict(X_test)\n",
    "    train_pred = dtc.predict(X_train)\n",
    "    \n",
    "    # calc results\n",
    "    train_acc = round(accuracy_score(train_pred, y_train),4)\n",
    "    test_acc = round(accuracy_score(test_pred, y_test),4)\n",
    "    r2 = round(r2_score(y_test, test_pred),4)\n",
    "    tp, fp = p_accuracy(test_pred, y_test)\n",
    "    \n",
    "    return dtc, [train_acc, test_acc, r2, tp, fp]"
   ]
  },
  {
   "cell_type": "code",
   "execution_count": 215,
   "metadata": {},
   "outputs": [
    {
     "data": {
      "text/plain": [
       "'dtc_l, out_l = get_decision_tree(X_train_lasso,X_test_lasso,y_train,y_test,lasso_key)\\ndtc_f, out_f = get_decision_tree(X_train_forward,X_test_forward,y_train,y_test)\\ndtc_f2, out_f2 = get_decision_tree(sfs_train, sfs_test, y_train, y_test)\\ndtc_rfe, out_rfe = get_decision_tree(rfe_train, rfe_test, y_train, y_test, rfe_key)\\ndtc_70, out_70 = get_decision_tree(pc70_train, pc70_test, y_train, y_test)\\ndtc_15, out_15 = get_decision_tree(pc15_train, pc15_test, y_train, y_test)'"
      ]
     },
     "execution_count": 215,
     "metadata": {},
     "output_type": "execute_result"
    }
   ],
   "source": [
    "# get best decision tree on complete, lasso, forward, rfe, pc_70, and pc_16 sets\n",
    "dtc_c, out_c = get_decision_tree(X_train,X_test,y_train,y_test)\n",
    "dtc_l, out_l = get_decision_tree(X_train_lasso,X_test_lasso,y_train,y_test,lasso_key)\n",
    "dtc_f, out_f = get_decision_tree(X_train_forward,X_test_forward,y_train,y_test)\n",
    "dtc_f2, out_f2 = get_decision_tree(sfs_train, sfs_test, y_train, y_test, f2_key)\n",
    "dtc_rfe, out_rfe = get_decision_tree(rfe_train, rfe_test, y_train, y_test, rfe_key)\n",
    "dtc_70, out_70 = get_decision_tree(pc70_train, pc70_test, y_train, y_test)\n",
    "dtc_15, out_15 = get_decision_tree(pc15_train, pc15_test, y_train, y_test)"
   ]
  },
  {
   "cell_type": "code",
   "execution_count": 216,
   "metadata": {},
   "outputs": [
    {
     "data": {
      "text/html": [
       "<div>\n",
       "<style scoped>\n",
       "    .dataframe tbody tr th:only-of-type {\n",
       "        vertical-align: middle;\n",
       "    }\n",
       "\n",
       "    .dataframe tbody tr th {\n",
       "        vertical-align: top;\n",
       "    }\n",
       "\n",
       "    .dataframe thead th {\n",
       "        text-align: right;\n",
       "    }\n",
       "</style>\n",
       "<table border=\"1\" class=\"dataframe\">\n",
       "  <thead>\n",
       "    <tr style=\"text-align: right;\">\n",
       "      <th></th>\n",
       "      <th>Complete</th>\n",
       "    </tr>\n",
       "  </thead>\n",
       "  <tbody>\n",
       "    <tr>\n",
       "      <th>Train Accuracy</th>\n",
       "      <td>1.000000</td>\n",
       "    </tr>\n",
       "    <tr>\n",
       "      <th>Test Accuracy</th>\n",
       "      <td>0.099100</td>\n",
       "    </tr>\n",
       "    <tr>\n",
       "      <th>R2 Score</th>\n",
       "      <td>-0.431500</td>\n",
       "    </tr>\n",
       "    <tr>\n",
       "      <th>TP Rate</th>\n",
       "      <td>0.014416</td>\n",
       "    </tr>\n",
       "    <tr>\n",
       "      <th>FP Rate</th>\n",
       "      <td>0.000000</td>\n",
       "    </tr>\n",
       "  </tbody>\n",
       "</table>\n",
       "</div>"
      ],
      "text/plain": [
       "                Complete\n",
       "Train Accuracy  1.000000\n",
       "Test Accuracy   0.099100\n",
       "R2 Score       -0.431500\n",
       "TP Rate         0.014416\n",
       "FP Rate         0.000000"
      ]
     },
     "execution_count": 216,
     "metadata": {},
     "output_type": "execute_result"
    }
   ],
   "source": [
    "# output logit results\n",
    "out = pd.DataFrame()\n",
    "out['Complete'] = out_c\n",
    "out['Lasso'] = out_l\n",
    "out['Forward'] = out_f\n",
    "out['Forward 2'] = out_f2\n",
    "out['RFE'] = out_rfe\n",
    "out['PC_70'] = out_70\n",
    "out['PC_15'] = out_15\n",
    "out.rename(index={0:'Train Accuracy',1:'Test Accuracy',2:'R2 Score',3:'TP Rate',4:'FP Rate'})"
   ]
  },
  {
   "cell_type": "markdown",
   "metadata": {},
   "source": [
    "## Bagging\n",
    "\n",
    "### Logistic Regression"
   ]
  },
  {
   "cell_type": "code",
   "execution_count": null,
   "metadata": {},
   "outputs": [],
   "source": [
    "# load logit library\n",
    "from sklearn.ensemble import BaggingClassifier\n",
    "from sklearn.linear_model import LogisticRegression\n",
    "\n",
    "# define regression function\n",
    "def get_bagged_logit(X_train,X_test,y_train,y_test,key=True):\n",
    "    \n",
    "    # check model key\n",
    "    if logit_key == False or bagging_key == False or key == False:\n",
    "        return np.nan, np.nan, np.nan, np.nan\n",
    "    \n",
    "    # run logistic regression ensemble\n",
    "    logit = LogisticRegression(max_iter=10000,class_weight='balanced',C=10,solver='saga')\n",
    "    logit_bag = BaggingClassifier(base_estimator=logit, n_estimators=10, random_state=10)\n",
    "    logit_bag.fit(X_train, y_train)\n",
    "    \n",
    "    # get results\n",
    "    pred_test = round(pd.Series(logit_bag.predict(X_test)))\n",
    "    train_acc = round(logit_bag.score(X_train,y_train),4)\n",
    "    test_acc = round(logit_bag.score(X_test,y_test),4)\n",
    "    r2 = round(r2_score(y_test, pred_test),4)\n",
    "    tp, fp = p_accuracy(test_pred, y_test)\n",
    "    \n",
    "    return logit_bag, [train_acc, test_acc, r2, tp, fp]"
   ]
  },
  {
   "cell_type": "code",
   "execution_count": null,
   "metadata": {},
   "outputs": [],
   "source": [
    "# get best logit on complete set\n",
    "logit_bag_c, out_c = get_bagged_logit(X_train, X_test, y_train, y_test)"
   ]
  },
  {
   "cell_type": "code",
   "execution_count": null,
   "metadata": {},
   "outputs": [],
   "source": [
    "# get best logit on lasso set\n",
    "logit_bag_l, out_l = get_bagged_logit(X_train_lasso, X_test_lasso, y_train, y_test, lasso_key)"
   ]
  },
  {
   "cell_type": "code",
   "execution_count": null,
   "metadata": {},
   "outputs": [],
   "source": [
    "# get best logit on forward set\n",
    "logit_bag_f, out_f = get_bagged_logit(X_train_forward, X_test_forward, y_train, y_test)"
   ]
  },
  {
   "cell_type": "code",
   "execution_count": null,
   "metadata": {},
   "outputs": [],
   "source": [
    "# get best logit on forward 2 set\n",
    "logit_bag_f2, out_f2 = get_bagged_logit(sfs_train, sfs_test, y_train, y_test, f2_key)"
   ]
  },
  {
   "cell_type": "code",
   "execution_count": null,
   "metadata": {},
   "outputs": [],
   "source": [
    "# get best logit on RFE set\n",
    "logit_bag_rfe, out_rfe = get_bagged_logit(rfe_train, rfe_test, y_train, y_test, rfe_key)"
   ]
  },
  {
   "cell_type": "code",
   "execution_count": null,
   "metadata": {},
   "outputs": [],
   "source": [
    "# get best logit on PC_70 set\n",
    "logit_bag_70, out_70 = get_bagged_logit(pc70_train,pc70_test,y_train,y_test)"
   ]
  },
  {
   "cell_type": "code",
   "execution_count": null,
   "metadata": {},
   "outputs": [],
   "source": [
    "# get best logit on PC_15 set\n",
    "logit_bag_15, out_15 = get_bagged_logit(pc15_train,pc15_test,y_train,y_test)"
   ]
  },
  {
   "cell_type": "code",
   "execution_count": null,
   "metadata": {},
   "outputs": [],
   "source": [
    "# output logit results\n",
    "out = pd.DataFrame()\n",
    "out['Complete'] = out_c\n",
    "out['Lasso'] = out_l\n",
    "out['Forward'] = out_f\n",
    "out['Forward 2'] = out_f2\n",
    "out['RFE'] = out_rfe\n",
    "out['PC_70'] = out_70\n",
    "out['PC_15'] = out_15\n",
    "out.rename(index={0:'Train Accuracy',1:'Test Accuracy',2:'R2 Score',3:'TP Rate',4:'FP Rate'})"
   ]
  },
  {
   "cell_type": "markdown",
   "metadata": {},
   "source": [
    "### Decision Tree Classifier"
   ]
  },
  {
   "cell_type": "code",
   "execution_count": null,
   "metadata": {},
   "outputs": [],
   "source": [
    "# load decision tree libraries\n",
    "from sklearn.ensemble import BaggingClassifier\n",
    "from sklearn.tree import DecisionTreeClassifier\n",
    "from sklearn.metrics import accuracy_score\n",
    "from sklearn.metrics import roc_auc_score\n",
    "\n",
    "def get_bagged_decision_tree(X_train,X_test,y_train,y_test,key=True):\n",
    "    \n",
    "    # check model key\n",
    "    if dt_key == False or bagging_key == False or key == False:\n",
    "        return np.nan, np.nan, np.nan, np.nan\n",
    "    \n",
    "    # run logistic regression ensemble\n",
    "    dtc = DecisionTreeClassifier(random_state=10, ctiterion='entropy')\n",
    "    dtc_bag = BaggingClassifier(base_estimator=dtc, n_estimators=50, random_state=10)\n",
    "    dtc_bag.fit(X_train, y_train)\n",
    "    \n",
    "    # get results\n",
    "    test_pred = dtc_bag.predict(X_test)\n",
    "    train_pred = dtc_bag.predict(X_train)\n",
    "    train_acc = round(accuracy_score(train_pred, y_train),4)\n",
    "    test_acc = round(accuracy_score(test_pred, y_test),4)\n",
    "    r2 = round(r2_score(y_test, test_pred),4)\n",
    "    tp, fp = p_accuracy(test_pred, y_test)\n",
    "    \n",
    "    return dtc_bag, [train_acc, test_acc, r2, tp, fp]"
   ]
  },
  {
   "cell_type": "code",
   "execution_count": null,
   "metadata": {},
   "outputs": [],
   "source": [
    "# get best decision tree on complete set\n",
    "dtc_bag_c, out_c = get_bagged_decision_tree(X_train,X_test,y_train,y_test)"
   ]
  },
  {
   "cell_type": "code",
   "execution_count": null,
   "metadata": {},
   "outputs": [],
   "source": [
    "# get best decision tree on lasso set\n",
    "dtc_bag_l, out_l = get_bagged_decision_tree(X_train_lasso,X_test_lasso,y_train,y_test, lasso_key)"
   ]
  },
  {
   "cell_type": "code",
   "execution_count": null,
   "metadata": {},
   "outputs": [],
   "source": [
    "# get best decision tree on forward set\n",
    "dtc_bag_f, out_f = get_bagged_decision_tree(X_train_forward,X_test_forward,y_train,y_test)"
   ]
  },
  {
   "cell_type": "code",
   "execution_count": null,
   "metadata": {},
   "outputs": [],
   "source": [
    "# get best decision tree on forward 2 set\n",
    "dtc_bag_f2, out_f2 = get_bagged_decision_tree(sfs_train,sfs_test,y_train,y_test, f2_key)"
   ]
  },
  {
   "cell_type": "code",
   "execution_count": null,
   "metadata": {},
   "outputs": [],
   "source": [
    "# get best decision tree on RFE set\n",
    "dtc_bag_rfe, out_rfe = get_bagged_decision_tree(rfe_train, rfe_test, y_train, y_test, rfe_key)"
   ]
  },
  {
   "cell_type": "code",
   "execution_count": null,
   "metadata": {},
   "outputs": [],
   "source": [
    "# get best logit on PC_70 set\n",
    "dtc_bag_70, out_70 = get_bagged_decision_tree(pc70_train,pc70_test,y_train,y_test)"
   ]
  },
  {
   "cell_type": "code",
   "execution_count": null,
   "metadata": {},
   "outputs": [],
   "source": [
    "# get best logit on PC_15 set\n",
    "dtc_bag_15, out_15 = get_bagged_decision_tree(pc15_train,pc15_test,y_train,y_test)"
   ]
  },
  {
   "cell_type": "code",
   "execution_count": null,
   "metadata": {},
   "outputs": [],
   "source": [
    "# output logit results\n",
    "out = pd.DataFrame()\n",
    "out['Complete'] = out_c\n",
    "out['Lasso'] = out_l\n",
    "out['Forward'] = out_f\n",
    "out['Forward 2'] = out_f2\n",
    "out['RFE'] = out_rfe\n",
    "out['PC_70'] = out_70\n",
    "out['PC_15'] = out_15\n",
    "out.rename(index={0:'Train Accuracy',1:'Test Accuracy',2:'R2 Score',3:'TP Rate',4:'FP Rate'})"
   ]
  },
  {
   "cell_type": "markdown",
   "metadata": {},
   "source": [
    "## Complex Models\n",
    "\n",
    "### Random Forest"
   ]
  },
  {
   "cell_type": "code",
   "execution_count": null,
   "metadata": {},
   "outputs": [],
   "source": [
    "# load random forest libraries\n",
    "from sklearn.ensemble import RandomForestClassifier\n",
    "from sklearn.model_selection import GridSearchCV\n",
    "from sklearn.metrics import accuracy_score\n",
    "from sklearn.metrics import roc_auc_score\n",
    "\n",
    "# define random forest function\n",
    "def get_best_random_forest(X_train,X_test,y_train,y_test,parameters=False):\n",
    "    \n",
    "    # setup parameters\n",
    "    frc = RandomForestClassifier(random_state=0)\n",
    "    if parameters == False:\n",
    "        parameters = {'criterion':('gini', 'entropy'), 'n_estimators':[10,50,100,150,200]}\n",
    "    \n",
    "    # run random forest\n",
    "    srch = GridSearchCV(frc, parameters, refit=True)\n",
    "    srch.fit(X_train, y_train)\n",
    "    \n",
    "    # get results\n",
    "    test_pred = srch.predict(X_test)\n",
    "    train_pred = srch.predict(X_train)\n",
    "    test_acc = round(accuracy_score(test_pred, y_test),4)\n",
    "    train_acc = round(accuracy_score(train_pred, y_train),4)\n",
    "    r2 = round(r2_score(y_test, test_pred),4)\n",
    "    best_params = srch.best_params_\n",
    "    \n",
    "    return best_params, train_acc, test_acc, r2"
   ]
  },
  {
   "cell_type": "code",
   "execution_count": null,
   "metadata": {},
   "outputs": [],
   "source": [
    "# get best random forest on complete, lasso, and forward sets\n",
    "best_params_c, train_acc, test_acc, r2 = get_best_random_forest(X_train,X_test,y_train,y_test,False)\n",
    "\n",
    "# output random forest results\n",
    "out = pd.DataFrame()\n",
    "out['Complete'] = [best_params_c, train_acc, test_acc, r2]\n",
    "#out['Lasso'] = [best_params_l, train_acc_l, test_acc_l, r2_l]\n",
    "#out['Forward'] = [best_params_f, train_acc_f, test_acc_f, r2_f]\n",
    "out.rename(index={0:'Best Parameters',1:'Train Accuracy',2:'Test Accuracy',3:'R2 Score'})"
   ]
  },
  {
   "cell_type": "markdown",
   "metadata": {},
   "source": [
    "### XGBoost"
   ]
  },
  {
   "cell_type": "code",
   "execution_count": null,
   "metadata": {},
   "outputs": [],
   "source": [
    "# load XGBoost libraries\n",
    "from sklearn.metrics import accuracy_score\n",
    "from sklearn.metrics import roc_auc_score\n",
    "import xgboost as xgb\n",
    "import shap\n",
    "\n",
    "# define XGBoost function\n",
    "def get_XGBoost(X_train,X_test,y_train,y_test,num_round=5,param=False):\n",
    "    \n",
    "    # read in data\n",
    "    dtrain = xgb.DMatrix(X_train, label=y_train)\n",
    "    dtest = xgb.DMatrix(X_test, label=y_test)\n",
    "\n",
    "    # specify parameters via map\n",
    "    if param == False:\n",
    "        param = {'max_depth':2, 'eta':1, 'objective':'binary:logistic' }\n",
    "        \n",
    "    # run model\n",
    "    bst = xgb.train(param, dtrain, num_round)\n",
    "\n",
    "    # make prediction\n",
    "    test_pred = bst.predict(dtest)\n",
    "    train_pred = bst.predict(dtrain)\n",
    "    test_acc = round(accuracy_score(test_pred, y_test),4)\n",
    "    train_acc = round(accuracy_score(train_pred, y_train),4)\n",
    "    r2 = round(r2_score(y_test, test_pred),4)\n",
    "\n",
    "    return bst, train_acc, test_acc, r2"
   ]
  },
  {
   "cell_type": "code",
   "execution_count": null,
   "metadata": {},
   "outputs": [],
   "source": [
    "# define parameters (need to fine tune)\n",
    "param = {'max_depth':2, 'eta':1, 'objective':'binary:logistic' }\n",
    "num_round = 5\n",
    "\n",
    "# get best decision tree on complete, lasso, and forward sets\n",
    "bst_c, train_acc, test_acc, r2 = get_XGBoost(X_train,X_test,y_train,y_test,num_round,param=False)\n",
    "\n",
    "# output random forest results\n",
    "out = pd.DataFrame()\n",
    "out['Complete'] = [train_acc, test_acc, r2]\n",
    "#out['Lasso'] = [train_acc_l, test_acc_l, r2_l]\n",
    "#out['Forward'] = [train_acc_f, test_acc_f, r2_f]\n",
    "out.rename(index={0:'Train Accuracy',1:'Test Accuracy',2:'R2 Score'})"
   ]
  },
  {
   "cell_type": "markdown",
   "metadata": {},
   "source": [
    "## Ensemble"
   ]
  },
  {
   "cell_type": "code",
   "execution_count": null,
   "metadata": {},
   "outputs": [],
   "source": [
    "# combine best models of each type"
   ]
  },
  {
   "cell_type": "markdown",
   "metadata": {},
   "source": [
    "## Expected Earnings"
   ]
  },
  {
   "cell_type": "code",
   "execution_count": 225,
   "metadata": {},
   "outputs": [],
   "source": [
    "# load estimaton library\n",
    "from sklearn.linear_model import LogisticRegression\n",
    "\n",
    "# define expected earnings function\n",
    "def expected_earnings(train_df, test_df, model, PC=False):\n",
    "    \n",
    "    # build df\n",
    "    if PC == True:\n",
    "        # initalize test data\n",
    "        df = X_test.copy()\n",
    "        df['target_prob'] = pd.DataFrame(model.predict_proba(test_df))[0] # only get prob for 1st place\n",
    "        \n",
    "        # initalize train data\n",
    "        df2 = train_df.copy()\n",
    "        df2['target_prob'] = pd.DataFrame(model.predict_proba(test_df))[0] # only get prob for 1st place\n",
    "        \n",
    "    else:  \n",
    "        # initalize test data\n",
    "        df = test_df.copy()\n",
    "        df['target_prob'] = pd.DataFrame(model.predict_proba(df))[0] # only get prob for 1st place\n",
    "        \n",
    "        # initalize train data\n",
    "        df2 = train_df.copy()\n",
    "        df2['target_prob'] = pd.DataFrame(model.predict_proba(df2))[0] # only get prob for 1st place\n",
    "    \n",
    "    # finish initalization\n",
    "    df['results'] = y_test\n",
    "    df2['results'] = y_test\n",
    "    df = df.merge(race_id_test,left_index=True,right_index=True)    \n",
    "    df2 = df2.merge(race_id_train,left_index=True,right_index=True)\n",
    "\n",
    "    # define structures & constants\n",
    "    df = df[['race_id','results','win_odds','target_prob']]\n",
    "    take = .175\n",
    "\n",
    "    # adj implied probability for take for test data\n",
    "    df['prob'] = 1/df['win_odds'] # get implied probability\n",
    "    race_total_prob = df.groupby('race_id')[['prob']].sum().rename(columns={'prob':'total_prob'})\n",
    "    temp = df[['race_id','prob']].merge(race_total_prob, left_on='race_id',right_index=True)\n",
    "    df['public_prob'] = temp['prob']/temp['total_prob']\n",
    "\n",
    "    # adj implied probability for take for Train data\n",
    "    df2 = df2[['race_id','results','win_odds','target_prob']]\n",
    "    df2['prob'] = 1/df2['win_odds'] # get implied probability\n",
    "    race_total_prob = df2.groupby('race_id')[['prob']].sum().rename(columns={'prob':'total_prob'})\n",
    "    temp = df2[['race_id','prob']].merge(race_total_prob, left_on='race_id',right_index=True)\n",
    "    df2['public_prob'] = temp['prob']/temp['total_prob']\n",
    "    \n",
    "    # define structures for combiner model\n",
    "    X = df2[['public_prob','target_prob']]\n",
    "    X2 = df[['public_prob','target_prob']]\n",
    "    X['y'] = y_train\n",
    "    X = X.dropna()\n",
    "    y = X['y']\n",
    "    X = X.drop('y',axis=1)\n",
    "    \n",
    "    # combine probabilities\n",
    "    logit = LogisticRegression(max_iter=10000) #,class_weight='balanced',solver='saga')\n",
    "    logit.fit(X,y)\n",
    "    df['combined_prob'] = pd.DataFrame(logit.predict_proba(X2))[0] # only get prob for 1st place\n",
    "    \n",
    "    # calc earnings values\n",
    "    df['div'] = (1-take)/df['public_prob']\n",
    "    df['er'] = df['combined_prob']*df['div'] # expected return (er)\n",
    "    df['adv'] = df['er'] - 1 # advantage (er - 1)\n",
    "    \n",
    "    # calc betting performance\n",
    "    bets = df[df['er'] > 3]\n",
    "    bets['winnings'] = np.where(bets['results']==1,bets['div'],0)\n",
    "    \n",
    "    # output results\n",
    "    out = pd.DataFrame(np.zeros(1))\n",
    "    out['Bets Made'] = round(bets.shape[0])\n",
    "    out['Winnings ($)'] = round(bets['winnings'].sum(),2)\n",
    "    out['Profit ($)'] = out['Winnings ($)'] - out['Bets Made']\n",
    "    out['Profit per Bet ($/bet)'] = round(out['Profit ($)']/out['Bets Made'],2)\n",
    "    out['Return on Bets (%)'] = round(((out['Winnings ($)'] - out['Bets Made'])/out['Bets Made'])*100,1)\n",
    "    out = out.iloc[:,1:]\n",
    "    \n",
    "    return out.T[0]"
   ]
  },
  {
   "cell_type": "code",
   "execution_count": 226,
   "metadata": {},
   "outputs": [
    {
     "name": "stderr",
     "output_type": "stream",
     "text": [
      "C:\\Users\\shanc\\Anaconda3\\lib\\site-packages\\ipykernel_launcher.py:52: SettingWithCopyWarning: \n",
      "A value is trying to be set on a copy of a slice from a DataFrame.\n",
      "Try using .loc[row_indexer,col_indexer] = value instead\n",
      "\n",
      "See the caveats in the documentation: https://pandas.pydata.org/pandas-docs/stable/user_guide/indexing.html#returning-a-view-versus-a-copy\n",
      "C:\\Users\\shanc\\Anaconda3\\lib\\site-packages\\ipykernel_launcher.py:69: SettingWithCopyWarning: \n",
      "A value is trying to be set on a copy of a slice from a DataFrame.\n",
      "Try using .loc[row_indexer,col_indexer] = value instead\n",
      "\n",
      "See the caveats in the documentation: https://pandas.pydata.org/pandas-docs/stable/user_guide/indexing.html#returning-a-view-versus-a-copy\n",
      "C:\\Users\\shanc\\Anaconda3\\lib\\site-packages\\ipykernel_launcher.py:52: SettingWithCopyWarning: \n",
      "A value is trying to be set on a copy of a slice from a DataFrame.\n",
      "Try using .loc[row_indexer,col_indexer] = value instead\n",
      "\n",
      "See the caveats in the documentation: https://pandas.pydata.org/pandas-docs/stable/user_guide/indexing.html#returning-a-view-versus-a-copy\n",
      "C:\\Users\\shanc\\Anaconda3\\lib\\site-packages\\ipykernel_launcher.py:69: SettingWithCopyWarning: \n",
      "A value is trying to be set on a copy of a slice from a DataFrame.\n",
      "Try using .loc[row_indexer,col_indexer] = value instead\n",
      "\n",
      "See the caveats in the documentation: https://pandas.pydata.org/pandas-docs/stable/user_guide/indexing.html#returning-a-view-versus-a-copy\n"
     ]
    },
    {
     "data": {
      "text/html": [
       "<div>\n",
       "<style scoped>\n",
       "    .dataframe tbody tr th:only-of-type {\n",
       "        vertical-align: middle;\n",
       "    }\n",
       "\n",
       "    .dataframe tbody tr th {\n",
       "        vertical-align: top;\n",
       "    }\n",
       "\n",
       "    .dataframe thead th {\n",
       "        text-align: right;\n",
       "    }\n",
       "</style>\n",
       "<table border=\"1\" class=\"dataframe\">\n",
       "  <thead>\n",
       "    <tr style=\"text-align: right;\">\n",
       "      <th></th>\n",
       "      <th>Logit - Complete</th>\n",
       "      <th>Decision Tree - Complete</th>\n",
       "    </tr>\n",
       "  </thead>\n",
       "  <tbody>\n",
       "    <tr>\n",
       "      <th>Bets Made</th>\n",
       "      <td>132.00</td>\n",
       "      <td>468.00</td>\n",
       "    </tr>\n",
       "    <tr>\n",
       "      <th>Winnings ($)</th>\n",
       "      <td>320.38</td>\n",
       "      <td>415.41</td>\n",
       "    </tr>\n",
       "    <tr>\n",
       "      <th>Profit ($)</th>\n",
       "      <td>188.38</td>\n",
       "      <td>-52.59</td>\n",
       "    </tr>\n",
       "    <tr>\n",
       "      <th>Profit per Bet ($/bet)</th>\n",
       "      <td>1.43</td>\n",
       "      <td>-0.11</td>\n",
       "    </tr>\n",
       "    <tr>\n",
       "      <th>Return on Bets (%)</th>\n",
       "      <td>142.70</td>\n",
       "      <td>-11.20</td>\n",
       "    </tr>\n",
       "  </tbody>\n",
       "</table>\n",
       "</div>"
      ],
      "text/plain": [
       "                        Logit - Complete  Decision Tree - Complete\n",
       "Bets Made                         132.00                    468.00\n",
       "Winnings ($)                      320.38                    415.41\n",
       "Profit ($)                        188.38                    -52.59\n",
       "Profit per Bet ($/bet)              1.43                     -0.11\n",
       "Return on Bets (%)                142.70                    -11.20"
      ]
     },
     "execution_count": 226,
     "metadata": {},
     "output_type": "execute_result"
    }
   ],
   "source": [
    "# test earnings results under $1 bets on best of each model\n",
    "earnings = pd.DataFrame()\n",
    "#earnings['kNN - ?'] = expected_earnings(X_test, knn)\n",
    "#earnings['Linear - Forward'] = expected_earnings(X_test_forward, lin_f)\n",
    "earnings['Logit - Complete'] = expected_earnings(X_train, X_test, logit_c)\n",
    "earnings['Decision Tree - Complete'] = expected_earnings(X_train, X_test, dtc_c)\n",
    "'''earnings['Logit - RFE'] = expected_earnings(rfe_test, logit_rfe)\n",
    "#earnings['Logit - Lasso'] = expected_earnings(X_test_lasso, logit_l)\n",
    "earnings['Logit - PC 70'] = expected_earnings(pc70_test, logit_70, True)\n",
    "earnings['Logit - PC 15'] = expected_earnings(pc15_test, logit_15, True)\n",
    "earnings['Decision Tree - Forward'] = expected_earnings(X_test_forward, dtc_f)\n",
    "earnings['Bagged Logit - RFE'] = expected_earnings(rfe_test, logit_bag_rfe)\n",
    "earnings['Bagged Decision Tree - RFE'] = expected_earnings(rfe_test, dtc_bag_rfe)'''\n",
    "earnings"
   ]
  },
  {
   "cell_type": "code",
   "execution_count": null,
   "metadata": {},
   "outputs": [],
   "source": []
  }
 ],
 "metadata": {
  "kernelspec": {
   "display_name": "Python 3",
   "language": "python",
   "name": "python3"
  },
  "language_info": {
   "codemirror_mode": {
    "name": "ipython",
    "version": 3
   },
   "file_extension": ".py",
   "mimetype": "text/x-python",
   "name": "python",
   "nbconvert_exporter": "python",
   "pygments_lexer": "ipython3",
   "version": "3.8.6rc1"
  }
 },
 "nbformat": 4,
 "nbformat_minor": 4
}
